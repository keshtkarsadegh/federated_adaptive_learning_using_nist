{
 "cells": [
  {
   "cell_type": "code",
   "id": "initial_id",
   "metadata": {
    "collapsed": true,
    "ExecuteTime": {
     "end_time": "2025-10-31T10:50:17.670413Z",
     "start_time": "2025-10-31T10:50:16.433467Z"
    }
   },
   "source": [
    "!poetry env use python3\n",
    "!poetry env info"
   ],
   "outputs": [
    {
     "name": "stdout",
     "output_type": "stream",
     "text": [
      "Using virtualenv: \u001B[32m/home/payman/.cache/pypoetry/virtualenvs/federated-adaptive-learning-nist-wnLxecQa-py3.12\u001B[39m\r\n",
      "\r\n",
      "\u001B[39;1mVirtualenv\u001B[39;22m\r\n",
      "\u001B[34mPython\u001B[39m:         \u001B[32m3.12.11\u001B[39m\r\n",
      "\u001B[34mImplementation\u001B[39m: \u001B[32mCPython\u001B[39m\r\n",
      "\u001B[34mPath\u001B[39m:           \u001B[32m/home/payman/.cache/pypoetry/virtualenvs/federated-adaptive-learning-nist-wnLxecQa-py3.12\u001B[39m\r\n",
      "\u001B[34mExecutable\u001B[39m:     \u001B[32m/home/payman/.cache/pypoetry/virtualenvs/federated-adaptive-learning-nist-wnLxecQa-py3.12/bin/python\u001B[39m\r\n",
      "\u001B[34mValid\u001B[39m:          \u001B[32mTrue\u001B[39m\r\n",
      "\r\n",
      "\u001B[39;1mBase\u001B[39;22m\r\n",
      "\u001B[34mPlatform\u001B[39m:   \u001B[32mlinux\u001B[39m\r\n",
      "\u001B[34mOS\u001B[39m:         \u001B[32mposix\u001B[39m\r\n",
      "\u001B[34mPython\u001B[39m:     \u001B[32m3.12.11\u001B[39m\r\n",
      "\u001B[34mPath\u001B[39m:       \u001B[32m/home/payman/miniconda3/envs/py312\u001B[39m\r\n",
      "\u001B[34mExecutable\u001B[39m: \u001B[32m/home/payman/miniconda3/envs/py312/bin/python3.12\u001B[39m\r\n"
     ]
    }
   ],
   "execution_count": 1
  },
  {
   "metadata": {
    "ExecuteTime": {
     "end_time": "2025-10-31T10:50:21.892047Z",
     "start_time": "2025-10-31T10:50:20.106352Z"
    }
   },
   "cell_type": "code",
   "source": [
    "!poetry run pip install ipykernel\n",
    "!poetry run python -m ipykernel install --user --name=my_poetry_env --display-name \"Python (Poetry)\"\n"
   ],
   "id": "3460c323d189bb3c",
   "outputs": [
    {
     "name": "stdout",
     "output_type": "stream",
     "text": [
      "Requirement already satisfied: ipykernel in /home/payman/.cache/pypoetry/virtualenvs/federated-adaptive-learning-nist-wnLxecQa-py3.12/lib/python3.12/site-packages (7.1.0)\r\n",
      "Requirement already satisfied: comm>=0.1.1 in /home/payman/.cache/pypoetry/virtualenvs/federated-adaptive-learning-nist-wnLxecQa-py3.12/lib/python3.12/site-packages (from ipykernel) (0.2.3)\r\n",
      "Requirement already satisfied: debugpy>=1.6.5 in /home/payman/.cache/pypoetry/virtualenvs/federated-adaptive-learning-nist-wnLxecQa-py3.12/lib/python3.12/site-packages (from ipykernel) (1.8.17)\r\n",
      "Requirement already satisfied: ipython>=7.23.1 in /home/payman/.cache/pypoetry/virtualenvs/federated-adaptive-learning-nist-wnLxecQa-py3.12/lib/python3.12/site-packages (from ipykernel) (9.6.0)\r\n",
      "Requirement already satisfied: jupyter-client>=8.0.0 in /home/payman/.cache/pypoetry/virtualenvs/federated-adaptive-learning-nist-wnLxecQa-py3.12/lib/python3.12/site-packages (from ipykernel) (8.6.3)\r\n",
      "Requirement already satisfied: jupyter-core!=5.0.*,>=4.12 in /home/payman/.cache/pypoetry/virtualenvs/federated-adaptive-learning-nist-wnLxecQa-py3.12/lib/python3.12/site-packages (from ipykernel) (5.9.1)\r\n",
      "Requirement already satisfied: matplotlib-inline>=0.1 in /home/payman/.cache/pypoetry/virtualenvs/federated-adaptive-learning-nist-wnLxecQa-py3.12/lib/python3.12/site-packages (from ipykernel) (0.2.1)\r\n",
      "Requirement already satisfied: nest-asyncio>=1.4 in /home/payman/.cache/pypoetry/virtualenvs/federated-adaptive-learning-nist-wnLxecQa-py3.12/lib/python3.12/site-packages (from ipykernel) (1.6.0)\r\n",
      "Requirement already satisfied: packaging>=22 in /home/payman/.cache/pypoetry/virtualenvs/federated-adaptive-learning-nist-wnLxecQa-py3.12/lib/python3.12/site-packages (from ipykernel) (25.0)\r\n",
      "Requirement already satisfied: psutil>=5.7 in /home/payman/.cache/pypoetry/virtualenvs/federated-adaptive-learning-nist-wnLxecQa-py3.12/lib/python3.12/site-packages (from ipykernel) (7.1.2)\r\n",
      "Requirement already satisfied: pyzmq>=25 in /home/payman/.cache/pypoetry/virtualenvs/federated-adaptive-learning-nist-wnLxecQa-py3.12/lib/python3.12/site-packages (from ipykernel) (27.1.0)\r\n",
      "Requirement already satisfied: tornado>=6.2 in /home/payman/.cache/pypoetry/virtualenvs/federated-adaptive-learning-nist-wnLxecQa-py3.12/lib/python3.12/site-packages (from ipykernel) (6.5.2)\r\n",
      "Requirement already satisfied: traitlets>=5.4.0 in /home/payman/.cache/pypoetry/virtualenvs/federated-adaptive-learning-nist-wnLxecQa-py3.12/lib/python3.12/site-packages (from ipykernel) (5.14.3)\r\n",
      "Requirement already satisfied: decorator in /home/payman/.cache/pypoetry/virtualenvs/federated-adaptive-learning-nist-wnLxecQa-py3.12/lib/python3.12/site-packages (from ipython>=7.23.1->ipykernel) (5.2.1)\r\n",
      "Requirement already satisfied: ipython-pygments-lexers in /home/payman/.cache/pypoetry/virtualenvs/federated-adaptive-learning-nist-wnLxecQa-py3.12/lib/python3.12/site-packages (from ipython>=7.23.1->ipykernel) (1.1.1)\r\n",
      "Requirement already satisfied: jedi>=0.16 in /home/payman/.cache/pypoetry/virtualenvs/federated-adaptive-learning-nist-wnLxecQa-py3.12/lib/python3.12/site-packages (from ipython>=7.23.1->ipykernel) (0.19.2)\r\n",
      "Requirement already satisfied: pexpect>4.3 in /home/payman/.cache/pypoetry/virtualenvs/federated-adaptive-learning-nist-wnLxecQa-py3.12/lib/python3.12/site-packages (from ipython>=7.23.1->ipykernel) (4.9.0)\r\n",
      "Requirement already satisfied: prompt_toolkit<3.1.0,>=3.0.41 in /home/payman/.cache/pypoetry/virtualenvs/federated-adaptive-learning-nist-wnLxecQa-py3.12/lib/python3.12/site-packages (from ipython>=7.23.1->ipykernel) (3.0.52)\r\n",
      "Requirement already satisfied: pygments>=2.4.0 in /home/payman/.cache/pypoetry/virtualenvs/federated-adaptive-learning-nist-wnLxecQa-py3.12/lib/python3.12/site-packages (from ipython>=7.23.1->ipykernel) (2.19.2)\r\n",
      "Requirement already satisfied: stack_data in /home/payman/.cache/pypoetry/virtualenvs/federated-adaptive-learning-nist-wnLxecQa-py3.12/lib/python3.12/site-packages (from ipython>=7.23.1->ipykernel) (0.6.3)\r\n",
      "Requirement already satisfied: wcwidth in /home/payman/.cache/pypoetry/virtualenvs/federated-adaptive-learning-nist-wnLxecQa-py3.12/lib/python3.12/site-packages (from prompt_toolkit<3.1.0,>=3.0.41->ipython>=7.23.1->ipykernel) (0.2.14)\r\n",
      "Requirement already satisfied: parso<0.9.0,>=0.8.4 in /home/payman/.cache/pypoetry/virtualenvs/federated-adaptive-learning-nist-wnLxecQa-py3.12/lib/python3.12/site-packages (from jedi>=0.16->ipython>=7.23.1->ipykernel) (0.8.5)\r\n",
      "Requirement already satisfied: python-dateutil>=2.8.2 in /home/payman/.cache/pypoetry/virtualenvs/federated-adaptive-learning-nist-wnLxecQa-py3.12/lib/python3.12/site-packages (from jupyter-client>=8.0.0->ipykernel) (2.9.0.post0)\r\n",
      "Requirement already satisfied: platformdirs>=2.5 in /home/payman/.cache/pypoetry/virtualenvs/federated-adaptive-learning-nist-wnLxecQa-py3.12/lib/python3.12/site-packages (from jupyter-core!=5.0.*,>=4.12->ipykernel) (4.5.0)\r\n",
      "Requirement already satisfied: ptyprocess>=0.5 in /home/payman/.cache/pypoetry/virtualenvs/federated-adaptive-learning-nist-wnLxecQa-py3.12/lib/python3.12/site-packages (from pexpect>4.3->ipython>=7.23.1->ipykernel) (0.7.0)\r\n",
      "Requirement already satisfied: six>=1.5 in /home/payman/.cache/pypoetry/virtualenvs/federated-adaptive-learning-nist-wnLxecQa-py3.12/lib/python3.12/site-packages (from python-dateutil>=2.8.2->jupyter-client>=8.0.0->ipykernel) (1.17.0)\r\n",
      "Requirement already satisfied: executing>=1.2.0 in /home/payman/.cache/pypoetry/virtualenvs/federated-adaptive-learning-nist-wnLxecQa-py3.12/lib/python3.12/site-packages (from stack_data->ipython>=7.23.1->ipykernel) (2.2.1)\r\n",
      "Requirement already satisfied: asttokens>=2.1.0 in /home/payman/.cache/pypoetry/virtualenvs/federated-adaptive-learning-nist-wnLxecQa-py3.12/lib/python3.12/site-packages (from stack_data->ipython>=7.23.1->ipykernel) (3.0.0)\r\n",
      "Requirement already satisfied: pure-eval in /home/payman/.cache/pypoetry/virtualenvs/federated-adaptive-learning-nist-wnLxecQa-py3.12/lib/python3.12/site-packages (from stack_data->ipython>=7.23.1->ipykernel) (0.2.3)\r\n",
      "\r\n",
      "\u001B[1m[\u001B[0m\u001B[34;49mnotice\u001B[0m\u001B[1;39;49m]\u001B[0m\u001B[39;49m A new release of pip is available: \u001B[0m\u001B[31;49m25.2\u001B[0m\u001B[39;49m -> \u001B[0m\u001B[32;49m25.3\u001B[0m\r\n",
      "\u001B[1m[\u001B[0m\u001B[34;49mnotice\u001B[0m\u001B[1;39;49m]\u001B[0m\u001B[39;49m To update, run: \u001B[0m\u001B[32;49mpip install --upgrade pip\u001B[0m\r\n",
      "Installed kernelspec my_poetry_env in /home/payman/.local/share/jupyter/kernels/my_poetry_env\r\n"
     ]
    }
   ],
   "execution_count": 2
  },
  {
   "metadata": {
    "ExecuteTime": {
     "end_time": "2025-10-31T10:50:25.098019Z",
     "start_time": "2025-10-31T10:50:25.032845Z"
    }
   },
   "cell_type": "code",
   "source": [
    "from src.federated_adaptive_learning_nist.nist_downloader_extractor import download_and_extract_shell\n",
    "from pathlib import Path"
   ],
   "id": "e89c82bb9b85d566",
   "outputs": [],
   "execution_count": 3
  },
  {
   "metadata": {
    "ExecuteTime": {
     "end_time": "2025-10-31T10:50:27.103501Z",
     "start_time": "2025-10-31T10:50:27.098251Z"
    }
   },
   "cell_type": "code",
   "source": [
    "NOTEBOOK_DIR = Path().resolve()\n",
    "PROJECT_ROOT = NOTEBOOK_DIR.parent\n",
    "DATA_DIR = PROJECT_ROOT / \"data\""
   ],
   "id": "dc592fab951acdc0",
   "outputs": [],
   "execution_count": 4
  },
  {
   "metadata": {
    "ExecuteTime": {
     "end_time": "2025-10-31T10:59:56.390362Z",
     "start_time": "2025-10-31T10:50:29.922875Z"
    }
   },
   "cell_type": "code",
   "source": "download_and_extract_shell(\"https://s3.amazonaws.com/nist-srd/SD19/by_write.zip\",extract_to=DATA_DIR)\n",
   "id": "3e1ff8f166676d42",
   "outputs": [
    {
     "name": "stderr",
     "output_type": "stream",
     "text": [
      "--2025-10-31 11:50:29--  https://s3.amazonaws.com/nist-srd/SD19/by_write.zip\n",
      "Resolving s3.amazonaws.com (s3.amazonaws.com)... 54.231.128.200, 54.231.196.152, 16.15.182.131, ...\n",
      "Connecting to s3.amazonaws.com (s3.amazonaws.com)|54.231.128.200|:443... connected.\n",
      "HTTP request sent, awaiting response... 200 OK\n",
      "Length: 568113446 (542M) [application/zip]\n",
      "Saving to: ‘/home/payman/MASTERTHESIS/federated_adaptive_learning_using_nist/data/by_write.zip’\n",
      "\n",
      "/home/payman/MASTER 100%[===================>] 541.79M  1.40MB/s    in 8m 40s  \n",
      "\n",
      "2025-10-31 11:59:11 (1.04 MB/s) - ‘/home/payman/MASTERTHESIS/federated_adaptive_learning_using_nist/data/by_write.zip’ saved [568113446/568113446]\n",
      "\n",
      "Extracting:  98%|█████████▊| 814255/830019 [00:44<00:00, 18498.01file/s]\n"
     ]
    }
   ],
   "execution_count": 5
  },
  {
   "metadata": {},
   "cell_type": "code",
   "outputs": [],
   "execution_count": null,
   "source": "",
   "id": "96ad311c82540cb3"
  }
 ],
 "metadata": {
  "kernelspec": {
   "display_name": "Python 3",
   "language": "python",
   "name": "python3"
  },
  "language_info": {
   "codemirror_mode": {
    "name": "ipython",
    "version": 2
   },
   "file_extension": ".py",
   "mimetype": "text/x-python",
   "name": "python",
   "nbconvert_exporter": "python",
   "pygments_lexer": "ipython2",
   "version": "2.7.6"
  }
 },
 "nbformat": 4,
 "nbformat_minor": 5
}
