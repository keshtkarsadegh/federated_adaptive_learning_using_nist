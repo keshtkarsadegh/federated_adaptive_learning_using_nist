{
 "cells": [
  {
   "metadata": {
    "collapsed": true
   },
   "cell_type": "markdown",
   "source": "# Here we train the basic fl using outliers and global model",
   "id": "a60decfc757620be"
  },
  {
   "metadata": {},
   "cell_type": "code",
   "source": [
    "!poetry env use python3\n",
    "!poetry env info"
   ],
   "id": "c6486ab58d9d290c",
   "outputs": [],
   "execution_count": null
  },
  {
   "metadata": {},
   "cell_type": "code",
   "source": [
    "!poetry run pip install ipykernel\n",
    "!poetry run python -m ipykernel install --user --name=my_poetry_env --display-name \"Python (Poetry)\""
   ],
   "id": "b3f9bae88333a906",
   "outputs": [],
   "execution_count": null
  },
  {
   "metadata": {},
   "cell_type": "markdown",
   "source": "## Training the base federated learning for the outliers",
   "id": "7a9ed9de47e82021"
  },
  {
   "metadata": {},
   "cell_type": "code",
   "source": [
    "from federated_adaptive_learning_nist.trainings.base_trainings_fl import base_fl_training\n",
    "\n",
    "base_fl_training()\n"
   ],
   "id": "78f48614be7cd520",
   "outputs": [],
   "execution_count": null
  },
  {
   "metadata": {
    "ExecuteTime": {
     "end_time": "2025-10-31T14:05:18.609885Z",
     "start_time": "2025-10-31T14:05:18.605773Z"
    }
   },
   "cell_type": "markdown",
   "source": "### Generate the plots",
   "id": "aa9a3eabf45afaea"
  },
  {
   "metadata": {},
   "cell_type": "code",
   "outputs": [],
   "execution_count": null,
   "source": [
    "from federated_adaptive_learning_nist.utils.overlay_plots import plot_overlay_all_scenarios\n",
    "from pathlib import Path\n",
    "\n",
    "NOTEBOOK_DIR = Path().resolve()\n",
    "PROJECT_ROOT = NOTEBOOK_DIR.parent\n",
    "\n",
    "project_results_dir=PROJECT_ROOT/\"results\"\n",
    "root_path=project_results_dir/\"prove_fl_BaseTrainer_grid_search\"\n",
    "plot_overlay_all_scenarios(root_dir=root_path)"
   ],
   "id": "f4180c11f0e1cb5d"
  },
  {
   "metadata": {},
   "cell_type": "markdown",
   "source": "### Displaying generated results\n",
   "id": "b4090d535ed1acd4"
  },
  {
   "metadata": {},
   "cell_type": "code",
   "source": [
    "from pathlib import Path\n",
    "from IPython.display import Image, display\n",
    "from pathlib import Path\n",
    "\n",
    "NOTEBOOK_DIR = Path().resolve()\n",
    "PROJECT_ROOT = NOTEBOOK_DIR.parent\n",
    "\n",
    "project_results_dir=PROJECT_ROOT/\"results\"\n",
    "root_path=project_results_dir/\"prove_fl_BaseTrainer_grid_search\"\n",
    "\n",
    "# root folder containing all your PNG files (adjust this)\n",
    "root = root_path\n",
    "\n",
    "# find all PNGs recursively\n",
    "png_files = sorted(root.rglob(\"*.png\"))\n",
    "\n",
    "print(f\"Found {len(png_files)} PNG files.\")\n",
    "\n",
    "# display them in Jupyter (limit if there are too many)\n",
    "for path in png_files[:50]:  # adjust 50 to whatever your sanity can handle\n",
    "    display(Image(filename=str(path)))\n"
   ],
   "id": "4cd8561cefe3de44",
   "outputs": [],
   "execution_count": null
  },
  {
   "metadata": {},
   "cell_type": "markdown",
   "source": "## visualizing the outlier samples",
   "id": "9f1b2d0ec540d5f6"
  },
  {
   "metadata": {},
   "cell_type": "code",
   "outputs": [],
   "execution_count": null,
   "source": [
    "from src.federated_adaptive_learning_nist.data_utils import NistDataset,NistPath\n",
    "from pathlib import Path\n",
    "\n",
    "NOTEBOOK_DIR = Path().resolve()\n",
    "PROJECT_ROOT = NOTEBOOK_DIR.parent\n",
    "data_path = NistPath()\n",
    "nist_dataset = NistDataset()\n",
    "project_results_dir=PROJECT_ROOT/\"results\""
   ],
   "id": "fba8e83fb5d353d1"
  },
  {
   "metadata": {},
   "cell_type": "code",
   "outputs": [],
   "execution_count": null,
   "source": [
    "import json\n",
    "selected_outliers_path = project_results_dir / \"outliers\" / \"selected_outliers.json\"\n",
    "with open(selected_outliers_path, \"r\") as f:\n",
    "    outlier_writers = json.load(f)\n",
    "\n",
    "writer_split_path = project_results_dir / \"writer_split.json\"\n",
    "with open(writer_split_path, \"r\") as f:\n",
    "    split = json.load(f)\n",
    "\n",
    "global_writers = split[\"global_writers\"]"
   ],
   "id": "8a865cab2a8078b7"
  },
  {
   "metadata": {},
   "cell_type": "code",
   "source": [
    "from federated_adaptive_learning_nist.trainings.outlier_visualizing import visualize_global_with_outlier_samples\n",
    "\n",
    "visualize_global_with_outlier_samples(nist_dataset, outlier_writers, global_writers,save_path= project_results_dir / \"outliers/visualizing_outliers.png\")"
   ],
   "id": "61dceed27b4c7021",
   "outputs": [],
   "execution_count": null
  },
  {
   "metadata": {},
   "cell_type": "code",
   "source": "",
   "id": "a92ab664902ced17",
   "outputs": [],
   "execution_count": null
  }
 ],
 "metadata": {
  "kernelspec": {
   "display_name": "Python 3",
   "language": "python",
   "name": "python3"
  },
  "language_info": {
   "codemirror_mode": {
    "name": "ipython",
    "version": 2
   },
   "file_extension": ".py",
   "mimetype": "text/x-python",
   "name": "python",
   "nbconvert_exporter": "python",
   "pygments_lexer": "ipython2",
   "version": "2.7.6"
  }
 },
 "nbformat": 4,
 "nbformat_minor": 5
}
