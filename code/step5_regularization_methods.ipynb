{
 "cells": [
  {
   "cell_type": "code",
   "id": "initial_id",
   "metadata": {
    "collapsed": true
   },
   "source": [
    "from federated_adaptive_learning_nist.constants import BEST_FEATURE_BETA\n",
    "from federated_adaptive_learning_nist.grid_searchs.distillation_grid_search import distillation_grid_search\n",
    "!poetry env use python3\n",
    "!poetry env info"
   ],
   "outputs": [],
   "execution_count": null
  },
  {
   "metadata": {},
   "cell_type": "code",
   "source": [
    "!poetry run pip install ipykernel\n",
    "!poetry run python -m ipykernel install --user --name=my_poetry_env --display-name \"Python (Poetry)\""
   ],
   "id": "86fb39a2f7711fe6",
   "outputs": [],
   "execution_count": null
  },
  {
   "metadata": {},
   "cell_type": "markdown",
   "source": [
    "# Here we first apply grid search for selected regularization method\n",
    "# Then we choose the best hyperparameters and do the final training"
   ],
   "id": "c0eddd512fddd00a"
  },
  {
   "metadata": {},
   "cell_type": "code",
   "source": [
    "from federated_adaptive_learning_nist.grid_searchs.aligned_feature_gird_search import feature_aligned_grid_search\n",
    "from federated_adaptive_learning_nist.grid_searchs.distil_ewc_grid_search import distil_ewc_grid_search\n",
    "from federated_adaptive_learning_nist.grid_searchs.ewc_grid_search import ewc_grid_search\n",
    "from federated_adaptive_learning_nist.grid_searchs.logit_consistency_grid_search import logit_consistency_grid_search\n",
    "from federated_adaptive_learning_nist.grid_searchs.prox_gird_search import prox_grid_search\n",
    "from pathlib import Path\n",
    "from IPython.display import Image, display\n",
    "from federated_adaptive_learning_nist.trainings.generate_experiments import generate_final_result_all_parallel\n",
    "from federated_adaptive_learning_nist.utils.overlay_plots import plot_overlay_all_scenarios_new\n",
    "\n",
    "\n",
    "\n",
    "NOTEBOOK_DIR = Path().resolve()\n",
    "PROJECT_ROOT = NOTEBOOK_DIR.parent\n",
    "\n",
    "project_results_dir=PROJECT_ROOT/\"results\""
   ],
   "id": "c18b478db7deecfe",
   "outputs": [],
   "execution_count": null
  },
  {
   "metadata": {},
   "cell_type": "markdown",
   "source": "#### Feature Aligned regularization grid search",
   "id": "72e8772419ddbdd1"
  },
  {
   "metadata": {},
   "cell_type": "code",
   "source": "feature_aligned_grid_search()",
   "id": "c887c74202e6e123",
   "outputs": [],
   "execution_count": null
  },
  {
   "metadata": {},
   "cell_type": "markdown",
   "source": "#### TOP CONFIG",
   "id": "e5283d56ef16e706"
  },
  {
   "metadata": {},
   "cell_type": "code",
   "source": [
    "from federated_adaptive_learning_nist.utils.top_6_selector import top_6_configs\n",
    "\n",
    "done=top_6_configs(root_folder=str(project_results_dir/\"aligned_feature_grid_search\"))\n",
    "path=str(project_results_dir/\"aligned_feature_grid_search/heatmaps.png\")\n",
    "display(Image(filename=str(path)))\n"
   ],
   "id": "8d91e64899d1c6a2",
   "outputs": [],
   "execution_count": null
  },
  {
   "metadata": {},
   "cell_type": "markdown",
   "source": "#### Final training using the best hyperparameter",
   "id": "5ec115d98ef3a77a"
  },
  {
   "metadata": {},
   "cell_type": "code",
   "source": [
    "\n",
    "BEST_FEATURE_BETA=0.1\n",
    "parent_name=\"final_result\"\n",
    "generate_final_result_all_parallel(\"CFAlignedFeatureTrainer\",outer_max_workers=2,inner_max_workers=2,parent_name=parent_name)"
   ],
   "id": "8bae05b31dee7b70",
   "outputs": [],
   "execution_count": null
  },
  {
   "metadata": {},
   "cell_type": "markdown",
   "source": "#### Plotting and Displaying overlay of all results",
   "id": "26d9a50d14162bcd"
  },
  {
   "metadata": {},
   "cell_type": "code",
   "source": [
    "\n",
    "root_folder=project_results_dir/\"final_result_CFAlignedFeatureTrainer_grid_search\"\n",
    "plot_overlay_all_scenarios_new(root_folder)\n",
    "png_files = sorted(\n",
    "    [p for p in root_folder.rglob(\"*.png\") if p.name.startswith(\"overlay_\")]\n",
    ")\n",
    "\n",
    "\n",
    "print(f\"Found {len(png_files)} PNG files.\")\n",
    "\n",
    "# display them in Jupyter (limit if there are too many)\n",
    "for path in png_files[:50]:  # adjust 50 to whatever your sanity can handle\n",
    "    display(Image(filename=str(path)))"
   ],
   "id": "8576812b77d4457d",
   "outputs": [],
   "execution_count": null
  },
  {
   "metadata": {},
   "cell_type": "markdown",
   "source": "#### Prox regularization grid search\n",
   "id": "d69ef7453b265d01"
  },
  {
   "metadata": {},
   "cell_type": "code",
   "source": "prox_grid_search()",
   "id": "ddbcf19ef325b246",
   "outputs": [],
   "execution_count": null
  },
  {
   "metadata": {},
   "cell_type": "markdown",
   "source": "#### TOP CONFIG\n",
   "id": "5f77ff1b6f759b23"
  },
  {
   "metadata": {},
   "cell_type": "code",
   "source": [
    "from federated_adaptive_learning_nist.utils.top_6_selector import top_6_configs\n",
    "\n",
    "done=top_6_configs(root_folder=str(project_results_dir/\"prox_grid_search\"))\n",
    "path=str(project_results_dir/\"prox_grid_search/heatmaps.png\")\n",
    "display(Image(filename=str(path)))\n"
   ],
   "id": "d7273d93abe04181",
   "outputs": [],
   "execution_count": null
  },
  {
   "metadata": {},
   "cell_type": "markdown",
   "source": "#### Final training using the best hyperparameter\n",
   "id": "7ccb232993aa7e5a"
  },
  {
   "metadata": {},
   "cell_type": "code",
   "outputs": [],
   "execution_count": null,
   "source": [
    "\n",
    "BEST_PROX_LAMBDA=0.9\n",
    "parent_name=\"final_result\"\n",
    "generate_final_result_all_parallel(\"CFProxTrainer\",outer_max_workers=2,inner_max_workers=2,parent_name=parent_name)"
   ],
   "id": "4b358471785a7edb"
  },
  {
   "metadata": {},
   "cell_type": "markdown",
   "source": "#### Plotting and Displaying overlay of all results",
   "id": "69fdf48a8b23cad6"
  },
  {
   "metadata": {},
   "cell_type": "code",
   "source": [
    "\n",
    "root_folder=project_results_dir/\"final_result_CFProxTrainer_grid_search\"\n",
    "plot_overlay_all_scenarios_new(root_folder)\n",
    "png_files = sorted(\n",
    "    [p for p in root_folder.rglob(\"*.png\") if p.name.startswith(\"overlay_\")]\n",
    ")\n",
    "\n",
    "\n",
    "print(f\"Found {len(png_files)} PNG files.\")\n",
    "\n",
    "# display them in Jupyter (limit if there are too many)\n",
    "for path in png_files[:50]:  # adjust 50 to whatever your sanity can handle\n",
    "    display(Image(filename=str(path)))"
   ],
   "id": "47903224466f0de0",
   "outputs": [],
   "execution_count": null
  },
  {
   "metadata": {},
   "cell_type": "markdown",
   "source": "#### EWC regularization grid search\n",
   "id": "27678cd2b5c70925"
  },
  {
   "metadata": {},
   "cell_type": "code",
   "source": "ewc_grid_search()",
   "id": "38b6294ce50fcca8",
   "outputs": [],
   "execution_count": null
  },
  {
   "metadata": {},
   "cell_type": "markdown",
   "source": "#### TOP CONFIG\n",
   "id": "bea3b21bec73c299"
  },
  {
   "metadata": {},
   "cell_type": "code",
   "source": [
    "from federated_adaptive_learning_nist.utils.top_6_selector import top_6_configs\n",
    "\n",
    "done=top_6_configs(root_folder=str(project_results_dir/\"ewc_grid_search\"))\n",
    "path=str(project_results_dir/\"ewc_grid_search/heatmaps.png\")\n",
    "display(Image(filename=str(path)))"
   ],
   "id": "97e58bc5763699ec",
   "outputs": [],
   "execution_count": null
  },
  {
   "metadata": {},
   "cell_type": "markdown",
   "source": "#### Final training using the best hyperparameter\n",
   "id": "f8a64b762e6fad87"
  },
  {
   "metadata": {},
   "cell_type": "code",
   "outputs": [],
   "execution_count": null,
   "source": [
    "\n",
    "BEST_EWC_LAMBDA=8.0\n",
    "parent_name=\"final_result\"\n",
    "generate_final_result_all_parallel(\"EWCTrainer\",outer_max_workers=2,inner_max_workers=2,parent_name=parent_name)"
   ],
   "id": "54e2ebd422ea6ffb"
  },
  {
   "metadata": {},
   "cell_type": "markdown",
   "source": "#### Plotting and Displaying overlay of all results",
   "id": "bc86d1a16287ef93"
  },
  {
   "metadata": {},
   "cell_type": "code",
   "source": [
    "\n",
    "root_folder=project_results_dir/\"final_result_EWCTrainer_grid_search\"\n",
    "plot_overlay_all_scenarios_new(root_folder)\n",
    "png_files = sorted(\n",
    "    [p for p in root_folder.rglob(\"*.png\") if p.name.startswith(\"overlay_\")]\n",
    ")\n",
    "\n",
    "\n",
    "print(f\"Found {len(png_files)} PNG files.\")\n",
    "\n",
    "# display them in Jupyter (limit if there are too many)\n",
    "for path in png_files[:50]:  # adjust 50 to whatever your sanity can handle\n",
    "    display(Image(filename=str(path)))"
   ],
   "id": "704ddf8e7ad1600f",
   "outputs": [],
   "execution_count": null
  },
  {
   "metadata": {},
   "cell_type": "markdown",
   "source": "#### LOGIT CONSISTENCY regularization grid search\n",
   "id": "8689b2db45f186c9"
  },
  {
   "metadata": {},
   "cell_type": "code",
   "source": "logit_consistency_grid_search()\n",
   "id": "8dcb6adedbaf9671",
   "outputs": [],
   "execution_count": null
  },
  {
   "metadata": {},
   "cell_type": "markdown",
   "source": "#### TOP CONFIG\n",
   "id": "d6a0b1839d074285"
  },
  {
   "metadata": {},
   "cell_type": "code",
   "source": [
    "from federated_adaptive_learning_nist.utils.top_6_selector import top_6_configs\n",
    "\n",
    "done=top_6_configs(root_folder=str(project_results_dir/\"logit_consistency_grid_search\"))\n",
    "path=str(project_results_dir/\"logit_consistency_grid_search/heatmaps.png\")\n",
    "display(Image(filename=str(path)))"
   ],
   "id": "8ac9d109d7cd7c9c",
   "outputs": [],
   "execution_count": null
  },
  {
   "metadata": {},
   "cell_type": "markdown",
   "source": "#### Final training using the best hyperparameter\n",
   "id": "58be273a89049e14"
  },
  {
   "metadata": {},
   "cell_type": "code",
   "outputs": [],
   "execution_count": null,
   "source": [
    "BEST_LOGIT_LAMBDA=0.1\n",
    "parent_name=\"final_result\"\n",
    "generate_final_result_all_parallel(\"CFLogitConsistencyTrainer\",outer_max_workers=2,inner_max_workers=2,parent_name=parent_name)"
   ],
   "id": "7af4054446c2152b"
  },
  {
   "metadata": {},
   "cell_type": "markdown",
   "source": "#### Plotting and Displaying overlay of all results",
   "id": "96996abc02fe1659"
  },
  {
   "metadata": {},
   "cell_type": "code",
   "outputs": [],
   "execution_count": null,
   "source": [
    "\n",
    "root_folder=project_results_dir/\"final_result_CFLogitConsistencyTrainer_grid_search\"\n",
    "plot_overlay_all_scenarios_new(root_folder)\n",
    "png_files = sorted(\n",
    "    [p for p in root_folder.rglob(\"*.png\") if p.name.startswith(\"overlay_\")]\n",
    ")\n",
    "\n",
    "\n",
    "print(f\"Found {len(png_files)} PNG files.\")\n",
    "\n",
    "# display them in Jupyter (limit if there are too many)\n",
    "for path in png_files[:50]:  # adjust 50 to whatever your sanity can handle\n",
    "    display(Image(filename=str(path)))"
   ],
   "id": "f7164daede0c17df"
  },
  {
   "metadata": {},
   "cell_type": "markdown",
   "source": "#### KD regularization grid search\n",
   "id": "fc2f2453bffaaa25"
  },
  {
   "metadata": {},
   "cell_type": "code",
   "outputs": [],
   "execution_count": null,
   "source": "distillation_grid_search()",
   "id": "7cbdd83b1cfb821e"
  },
  {
   "metadata": {},
   "cell_type": "markdown",
   "source": "#### TOP CONFIG\n",
   "id": "72a0f998080a77a5"
  },
  {
   "metadata": {},
   "cell_type": "code",
   "source": [
    "from federated_adaptive_learning_nist.utils.top_6_selector import top_6_configs\n",
    "\n",
    "done=top_6_configs(root_folder=str(project_results_dir/\"distillation_grid_search\"))\n",
    "path=str(project_results_dir/\"distillation_grid_search/heatmaps.png\")\n",
    "display(Image(filename=str(path)))"
   ],
   "id": "82c95cf8b15aa77e",
   "outputs": [],
   "execution_count": null
  },
  {
   "metadata": {},
   "cell_type": "markdown",
   "source": "#### Final training using the best hyperparameter\n",
   "id": "96381aee093f7ad5"
  },
  {
   "metadata": {},
   "cell_type": "code",
   "outputs": [],
   "execution_count": null,
   "source": [
    "BEST_KD_T=8.0\n",
    "BEST_KD_ALPHA=0.95\n",
    "parent_name=\"final_result\"\n",
    "generate_final_result_all_parallel(\"DistillationTrainer\",outer_max_workers=2,inner_max_workers=2,parent_name=parent_name)"
   ],
   "id": "2059d9e6be9cc6d0"
  },
  {
   "metadata": {},
   "cell_type": "markdown",
   "source": "#### Plotting and Displaying overlay of all results\n",
   "id": "d3acb50e6796df33"
  },
  {
   "metadata": {},
   "cell_type": "code",
   "outputs": [],
   "execution_count": null,
   "source": [
    "\n",
    "root_folder=project_results_dir/\"final_result_DistillationTrainer_grid_search\"\n",
    "plot_overlay_all_scenarios_new(root_folder)\n",
    "png_files = sorted(\n",
    "    [p for p in root_folder.rglob(\"*.png\") if p.name.startswith(\"overlay_\")]\n",
    ")\n",
    "\n",
    "\n",
    "print(f\"Found {len(png_files)} PNG files.\")\n",
    "\n",
    "# display them in Jupyter (limit if there are too many)\n",
    "for path in png_files[:50]:  # adjust 50 to whatever your sanity can handle\n",
    "    display(Image(filename=str(path)))"
   ],
   "id": "5905ebe2d191f429"
  },
  {
   "metadata": {},
   "cell_type": "markdown",
   "source": "#### KD + EWC  regularization grid search\n",
   "id": "d4d7eeacdb3b43cd"
  },
  {
   "metadata": {},
   "cell_type": "code",
   "outputs": [],
   "execution_count": null,
   "source": "distil_ewc_grid_search()\n",
   "id": "367abcef62720d01"
  },
  {
   "metadata": {},
   "cell_type": "markdown",
   "source": "#### TOP CONFIG\n",
   "id": "ed8b2ba2bd06ea23"
  },
  {
   "metadata": {},
   "cell_type": "code",
   "outputs": [],
   "execution_count": null,
   "source": [
    "from federated_adaptive_learning_nist.utils.top_6_selector import top_6_configs\n",
    "\n",
    "done=top_6_configs(root_folder=str(project_results_dir/\"logit_consistency_grid_search\"))\n",
    "path=str(project_results_dir/\"logit_consistency_grid_search/heatmaps.png\")\n",
    "display(Image(filename=str(path)))"
   ],
   "id": "41a1f20b2513b6e4"
  },
  {
   "metadata": {},
   "cell_type": "markdown",
   "source": "#### Final training using the best hyperparameter\n",
   "id": "6274aaccb87e9dc"
  },
  {
   "metadata": {},
   "cell_type": "code",
   "outputs": [],
   "execution_count": null,
   "source": [
    "#### Final training using the best hyperparameter\n",
    "\n",
    "BEST_KD_T = 8.0\n",
    "BEST_KD_ALPHA = 0.95\n",
    "BEST_EWC_LAMBDA=8.0\n",
    "parent_name = \"final_result\"\n",
    "generate_final_result_all_parallel(\"DistillationEWCTrainer\", outer_max_workers=2, inner_max_workers=2,\n",
    "                                   parent_name=parent_name)"
   ],
   "id": "2c3b7b2f01859ea8"
  },
  {
   "metadata": {},
   "cell_type": "markdown",
   "source": "#### Plotting and Displaying overlay of all results",
   "id": "5e27010db764c184"
  },
  {
   "metadata": {},
   "cell_type": "code",
   "outputs": [],
   "execution_count": null,
   "source": [
    "\n",
    "root_folder=project_results_dir/\"final_result_DistillationEWCTrainer_grid_search\"\n",
    "plot_overlay_all_scenarios_new(root_folder)\n",
    "png_files = sorted(\n",
    "    [p for p in root_folder.rglob(\"*.png\") if p.name.startswith(\"overlay_\")]\n",
    ")\n",
    "\n",
    "\n",
    "print(f\"Found {len(png_files)} PNG files.\")\n",
    "\n",
    "# display them in Jupyter (limit if there are too many)\n",
    "for path in png_files[:50]:  # adjust 50 to whatever your sanity can handle\n",
    "    display(Image(filename=str(path)))"
   ],
   "id": "4419bb77b1492084"
  }
 ],
 "metadata": {
  "kernelspec": {
   "display_name": "Python 3",
   "language": "python",
   "name": "python3"
  },
  "language_info": {
   "codemirror_mode": {
    "name": "ipython",
    "version": 2
   },
   "file_extension": ".py",
   "mimetype": "text/x-python",
   "name": "python",
   "nbconvert_exporter": "python",
   "pygments_lexer": "ipython2",
   "version": "2.7.6"
  }
 },
 "nbformat": 4,
 "nbformat_minor": 5
}
