{
 "cells": [
  {
   "cell_type": "code",
   "id": "initial_id",
   "metadata": {
    "collapsed": true
   },
   "source": [
    "!poetry env use python3\n",
    "!poetry env info"
   ],
   "outputs": [],
   "execution_count": null
  },
  {
   "metadata": {},
   "cell_type": "code",
   "source": [
    "!poetry run pip install ipykernel\n",
    "!poetry run python -m ipykernel install --user --name=my_poetry_env --display-name \"Python (Poetry)\""
   ],
   "id": "e47b248ea5e00689",
   "outputs": [],
   "execution_count": null
  },
  {
   "metadata": {},
   "cell_type": "markdown",
   "source": [
    "### Here we train federated learning using all aggregation variants.\n",
    "### This is doen for all combinations of communication scenarios (cocurrent vs sequential), and exchange withs (delta vs weights)"
   ],
   "id": "26fd409ea115b39"
  },
  {
   "metadata": {},
   "cell_type": "code",
   "source": [
    "from federated_adaptive_learning_nist.trainings.training_all_aggs import all_aggregation_variants\n",
    "\n",
    "all_aggregation_variants()"
   ],
   "id": "59e55d0787690371",
   "outputs": [],
   "execution_count": null
  },
  {
   "metadata": {
    "ExecuteTime": {
     "end_time": "2025-10-31T14:02:09.341742Z",
     "start_time": "2025-10-31T14:02:09.336742Z"
    }
   },
   "cell_type": "code",
   "source": [
    "from pathlib import Path\n",
    "\n",
    "NOTEBOOK_DIR = Path().resolve()\n",
    "PROJECT_ROOT = NOTEBOOK_DIR.parent\n",
    "\n",
    "project_results_dir=PROJECT_ROOT/\"results\"\n",
    "root_path=project_results_dir/\"all_aggs_fl_BaseTrainer_grid_search\"\n",
    "output_path=root_path/\"aggregated_results_large.png\"\n",
    "input_path=root_path/\"aggregated_results.csv\""
   ],
   "id": "52d41f82f4dc12d1",
   "outputs": [],
   "execution_count": 10
  },
  {
   "metadata": {},
   "cell_type": "markdown",
   "source": "# Desplaying the generated results' plots",
   "id": "d32a89dc4a78aa69"
  },
  {
   "metadata": {},
   "cell_type": "code",
   "source": [
    "from pathlib import Path\n",
    "from IPython.display import Image, display\n",
    "\n",
    "# root folder containing all your PNG files (adjust this)\n",
    "root = root_path\n",
    "\n",
    "# find all PNGs recursively\n",
    "png_files = sorted(root.rglob(\"*.png\"))\n",
    "\n",
    "print(f\"Found {len(png_files)} PNG files.\")\n",
    "\n",
    "# display them in Jupyter (limit if there are too many)\n",
    "for path in png_files[:50]:  # adjust 50 to whatever your sanity can handle\n",
    "    display(Image(filename=str(path)))\n"
   ],
   "id": "8ea6eff627fb2765",
   "outputs": [],
   "execution_count": null
  },
  {
   "metadata": {},
   "cell_type": "markdown",
   "source": "### Heatmap of the results",
   "id": "b82cbae2d33181e2"
  },
  {
   "metadata": {},
   "cell_type": "code",
   "source": [
    "from results.all_aggs_fl_BaseTrainer_grid_search.heatmap import generate_heatmap_for_all_aggs\n",
    "from results.all_aggs_fl_BaseTrainer_grid_search.analyze_learnings import collect_results_for_all_aggs\n",
    "\n",
    "collect_results_for_all_aggs(root_folder=root_path,output_csv=\"aggregated_results.csv\")\n",
    "generate_heatmap_for_all_aggs(input_path,output_path)"
   ],
   "id": "a882fee12b5f1aad",
   "outputs": [],
   "execution_count": null
  },
  {
   "metadata": {},
   "cell_type": "code",
   "outputs": [],
   "execution_count": null,
   "source": "",
   "id": "89fea3cb835dc20e"
  }
 ],
 "metadata": {
  "kernelspec": {
   "display_name": "Python 3",
   "language": "python",
   "name": "python3"
  },
  "language_info": {
   "codemirror_mode": {
    "name": "ipython",
    "version": 2
   },
   "file_extension": ".py",
   "mimetype": "text/x-python",
   "name": "python",
   "nbconvert_exporter": "python",
   "pygments_lexer": "ipython2",
   "version": "2.7.6"
  }
 },
 "nbformat": 4,
 "nbformat_minor": 5
}
