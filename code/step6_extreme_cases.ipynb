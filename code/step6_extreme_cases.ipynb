{
 "cells": [
  {
   "cell_type": "code",
   "id": "initial_id",
   "metadata": {
    "collapsed": true
   },
   "source": [
    "from federated_adaptive_learning_nist.constants import BEST_FEATURE_BETA\n",
    "from federated_adaptive_learning_nist.grid_searchs.distillation_grid_search import distillation_grid_search\n",
    "!poetry env use python3\n",
    "!poetry env info"
   ],
   "outputs": [],
   "execution_count": null
  },
  {
   "metadata": {},
   "cell_type": "code",
   "outputs": [],
   "execution_count": null,
   "source": [
    "!poetry run pip install ipykernel\n",
    "!poetry run python -m ipykernel install --user --name=my_poetry_env --display-name \"Python (Poetry)\""
   ],
   "id": "726824341c789610"
  },
  {
   "metadata": {
    "ExecuteTime": {
     "end_time": "2025-11-01T14:18:35.767860Z",
     "start_time": "2025-11-01T14:18:35.765984Z"
    }
   },
   "cell_type": "markdown",
   "source": [
    "# Here we first apply grid search for selected extreme case: one, wo , or dual outlies\n",
    "# Then we choose the best hyperparameters and do the final training"
   ],
   "id": "fb9338b33fa38c4a"
  },
  {
   "metadata": {
    "ExecuteTime": {
     "end_time": "2025-11-01T14:29:30.436608Z",
     "start_time": "2025-11-01T14:29:30.140859Z"
    }
   },
   "cell_type": "code",
   "source": [
    "\n",
    "from pathlib import Path\n",
    "from IPython.display import Image, display\n",
    "from federated_adaptive_learning_nist.utils.overlay_plots import plot_overlay_all_scenarios_new\n",
    "from federated_adaptive_learning_nist.trainings.extreme_cases_outlier_experiments import extreme_cases_final_training\n",
    "\n",
    "\n",
    "\n",
    "NOTEBOOK_DIR = Path().resolve()\n",
    "PROJECT_ROOT = NOTEBOOK_DIR.parent\n",
    "\n",
    "project_results_dir=PROJECT_ROOT/\"results\""
   ],
   "id": "ff9b6817e982f35f",
   "outputs": [
    {
     "name": "stdout",
     "output_type": "stream",
     "text": [
      "🔥 I’M THE NEW OVERLAY_PLOTS.PY — THE OLD ONE IS DEAD 🔥\n"
     ]
    }
   ],
   "execution_count": 4
  },
  {
   "metadata": {},
   "cell_type": "markdown",
   "source": "#### Two clients regularization grid search\n",
   "id": "7d25154529dbbc06"
  },
  {
   "metadata": {},
   "cell_type": "code",
   "outputs": [],
   "execution_count": null,
   "source": [
    "from federated_adaptive_learning_nist.grid_searchs.extreme_outlier_distillation_grid_search import \\\n",
    "    extreme_cases_grid_search\n",
    "extreme_cases_grid_search(single_outlier=[\"f3503_07\",\"f3503_07\"],extreme_case=\"double\")"
   ],
   "id": "660fa06079ab90de"
  },
  {
   "metadata": {},
   "cell_type": "markdown",
   "source": "#### TOP CONFIG\n",
   "id": "d101887e835be2cc"
  },
  {
   "metadata": {},
   "cell_type": "code",
   "source": [
    "from federated_adaptive_learning_nist.utils.top_6_selector import top_6_configs\n",
    "\n",
    "done=top_6_configs(root_folder=str(project_results_dir/\"double_outlier_distillation_grid_search\"))\n",
    "path=str(project_results_dir/\"double_outlier_distillation_grid_search/heatmaps.png\")\n",
    "display(Image(filename=str(path)))\n"
   ],
   "id": "bb61b4a8536f29db",
   "outputs": [],
   "execution_count": null
  },
  {
   "metadata": {},
   "cell_type": "markdown",
   "source": [
    "\n",
    "#### Final training using the best hyperparameter\n"
   ],
   "id": "cdb4c571aa921371"
  },
  {
   "metadata": {},
   "cell_type": "code",
   "outputs": [],
   "execution_count": null,
   "source": "extreme_cases_final_training(single_outlier=[\"f3503_07\",\"f3503_07\"],parent_name=\"double_outlier_final_results_final\")\n",
   "id": "1abf1aa8e732761"
  },
  {
   "metadata": {},
   "cell_type": "markdown",
   "source": "#### Plotting and Displaying overlay of all results\n",
   "id": "3ed82d5e189d413f"
  },
  {
   "metadata": {},
   "cell_type": "code",
   "source": [
    "\n",
    "root_folder = project_results_dir / \"double_outlier_final_results_final_DistillationTrainer_grid_search\"\n",
    "plot_overlay_all_scenarios_new(root_folder)\n",
    "png_files = sorted(\n",
    "    [p for p in root_folder.rglob(\"*.png\") if p.name.startswith(\"overlay_\")]\n",
    ")\n",
    "\n",
    "print(f\"Found {len(png_files)} PNG files.\")\n",
    "\n",
    "# display them in Jupyter (limit if there are too many)\n",
    "for path in png_files[:50]:  # adjust 50 t\n",
    "    display(Image(filename=str(path)))"
   ],
   "id": "37100a39507b3fd0",
   "outputs": [],
   "execution_count": null
  },
  {
   "metadata": {},
   "cell_type": "markdown",
   "source": "#### Single clients regularization grid search\n",
   "id": "f29cf1be70852edd"
  },
  {
   "metadata": {},
   "cell_type": "code",
   "outputs": [],
   "execution_count": null,
   "source": [
    "\n",
    "extreme_cases_grid_search(single_outlier=[\"f3503_07\",\"f3503_07\"],extreme_case=\"double\")"
   ],
   "id": "4d47b8d1cfd5cf29"
  },
  {
   "metadata": {},
   "cell_type": "markdown",
   "source": "#### TOP CONFIG\n",
   "id": "3effcbaf7c1b3fbc"
  },
  {
   "metadata": {},
   "cell_type": "code",
   "outputs": [],
   "execution_count": null,
   "source": [
    "\n",
    "done=top_6_configs(root_folder=str(project_results_dir/\"single_outlier_distillation_grid_search\"))\n",
    "path=str(project_results_dir/\"single_outlier_distillation_grid_search/heatmaps.png\")\n",
    "display(Image(filename=str(path)))\n"
   ],
   "id": "7d4b141d1276530a"
  },
  {
   "metadata": {},
   "cell_type": "markdown",
   "source": "#### Final training using the best hyperparameter\n",
   "id": "f3334ab34fc55f2d"
  },
  {
   "metadata": {},
   "cell_type": "code",
   "outputs": [],
   "execution_count": null,
   "source": "extreme_cases_final_training(single_outlier=[\"f3503_07\"],parent_name=\"single_outlier_final_results_final\")",
   "id": "75e1041bc446fc08"
  },
  {
   "metadata": {},
   "cell_type": "markdown",
   "source": "#### Plotting and Displaying overlay of all results\n",
   "id": "2d73f88129e518cf"
  },
  {
   "metadata": {},
   "cell_type": "code",
   "source": [
    "\n",
    "root_folder = project_results_dir / \"single_outlier_final_results_final_DistillationTrainer_grid_search\"\n",
    "plot_overlay_all_scenarios_new(root_folder)\n",
    "png_files = sorted(\n",
    "    [p for p in root_folder.rglob(\"*.png\") if p.name.startswith(\"overlay_\")]\n",
    ")\n",
    "\n",
    "print(f\"Found {len(png_files)} PNG files.\")\n",
    "\n",
    "# display them in Jupyter (limit if there are too many)\n",
    "for path in png_files[:50]:  # adjust 50 t\n",
    "    display(Image(filename=str(path)))"
   ],
   "id": "41627a81b4859d9a",
   "outputs": [],
   "execution_count": null
  },
  {
   "metadata": {},
   "cell_type": "markdown",
   "source": "#### Dual client regularization grid search\n",
   "id": "e31caa9213869e5d"
  },
  {
   "metadata": {},
   "cell_type": "code",
   "outputs": [],
   "execution_count": null,
   "source": [
    "\n",
    "extreme_cases_grid_search(single_outlier=[\"f3503_07\",\"f3503_07\"],extreme_case=\"double\")"
   ],
   "id": "45213ea7ffdfb1aa"
  },
  {
   "metadata": {},
   "cell_type": "markdown",
   "source": "#### TOP CONFIG\n",
   "id": "d4eaa18000903931"
  },
  {
   "metadata": {},
   "cell_type": "code",
   "source": [
    "from federated_adaptive_learning_nist.utils.top_6_selector import top_6_configs\n",
    "\n",
    "done=top_6_configs(root_folder=str(project_results_dir/\"dual_outlier_distillation_grid_search\"))\n",
    "path=str(project_results_dir/\"dual_outlier_distillation_grid_search/heatmaps.png\")\n",
    "display(Image(filename=str(path)))\n"
   ],
   "id": "509c07ede3506a8f",
   "outputs": [],
   "execution_count": null
  },
  {
   "metadata": {},
   "cell_type": "markdown",
   "source": "#### Final training using the best hyperparameter\n",
   "id": "af62c6b280d25709"
  },
  {
   "metadata": {},
   "cell_type": "code",
   "outputs": [],
   "execution_count": null,
   "source": [
    "\n",
    "extreme_cases_final_training(single_outlier=[\"f3503_07\",\"f3503_07\"],parent_name=\"dual_outlier_final_results_final\")"
   ],
   "id": "dc7eb8cb614f02ce"
  },
  {
   "metadata": {},
   "cell_type": "markdown",
   "source": "#### Plotting and Displaying overlay of all results\n",
   "id": "b43bfdc7a9c89f66"
  },
  {
   "metadata": {},
   "cell_type": "code",
   "source": [
    "root_folder=project_results_dir/\"dual_outlier_final_results_final_DistillationTrainer_grid_search\"\n",
    "plot_overlay_all_scenarios_new(root_folder)\n",
    "png_files = sorted(\n",
    "    [p for p in root_folder.rglob(\"*.png\") if p.name.startswith(\"overlay_\")]\n",
    ")\n",
    "\n",
    "\n",
    "print(f\"Found {len(png_files)} PNG files.\")\n",
    "\n",
    "# display them in Jupyter (limit if there are too many)\n",
    "for path in png_files[:50]:  # adjust 50 t\n",
    "        display(Image(filename=str(path)))"
   ],
   "id": "b7fe733c4017a5f4",
   "outputs": [],
   "execution_count": null
  },
  {
   "metadata": {},
   "cell_type": "code",
   "outputs": [],
   "execution_count": null,
   "source": "",
   "id": "ffda65abadcdc968"
  }
 ],
 "metadata": {
  "kernelspec": {
   "display_name": "Python 3",
   "language": "python",
   "name": "python3"
  },
  "language_info": {
   "codemirror_mode": {
    "name": "ipython",
    "version": 2
   },
   "file_extension": ".py",
   "mimetype": "text/x-python",
   "name": "python",
   "nbconvert_exporter": "python",
   "pygments_lexer": "ipython2",
   "version": "2.7.6"
  }
 },
 "nbformat": 4,
 "nbformat_minor": 5
}
