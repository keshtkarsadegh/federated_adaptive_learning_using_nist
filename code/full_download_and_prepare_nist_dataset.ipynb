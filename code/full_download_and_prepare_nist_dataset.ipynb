{
 "cells": [
  {
   "metadata": {},
   "cell_type": "code",
   "source": "# this code takes 20-30 inutes to downlaod and extract the datasets",
   "id": "62addaf6e8b1931c",
   "outputs": [],
   "execution_count": null
  },
  {
   "metadata": {
    "ExecuteTime": {
     "end_time": "2025-10-31T10:33:36.835925Z",
     "start_time": "2025-10-31T10:33:35.610477Z"
    }
   },
   "cell_type": "code",
   "source": [
    "!poetry env use python3\n",
    "!poetry env info"
   ],
   "id": "26d2f4889b2bb59a",
   "outputs": [
    {
     "name": "stdout",
     "output_type": "stream",
     "text": [
      "Using virtualenv: \u001B[32m/home/payman/.cache/pypoetry/virtualenvs/federated-adaptive-learning-nist-wnLxecQa-py3.12\u001B[39m\r\n",
      "\r\n",
      "\u001B[39;1mVirtualenv\u001B[39;22m\r\n",
      "\u001B[34mPython\u001B[39m:         \u001B[32m3.12.11\u001B[39m\r\n",
      "\u001B[34mImplementation\u001B[39m: \u001B[32mCPython\u001B[39m\r\n",
      "\u001B[34mPath\u001B[39m:           \u001B[32m/home/payman/.cache/pypoetry/virtualenvs/federated-adaptive-learning-nist-wnLxecQa-py3.12\u001B[39m\r\n",
      "\u001B[34mExecutable\u001B[39m:     \u001B[32m/home/payman/.cache/pypoetry/virtualenvs/federated-adaptive-learning-nist-wnLxecQa-py3.12/bin/python\u001B[39m\r\n",
      "\u001B[34mValid\u001B[39m:          \u001B[32mTrue\u001B[39m\r\n",
      "\r\n",
      "\u001B[39;1mBase\u001B[39;22m\r\n",
      "\u001B[34mPlatform\u001B[39m:   \u001B[32mlinux\u001B[39m\r\n",
      "\u001B[34mOS\u001B[39m:         \u001B[32mposix\u001B[39m\r\n",
      "\u001B[34mPython\u001B[39m:     \u001B[32m3.12.11\u001B[39m\r\n",
      "\u001B[34mPath\u001B[39m:       \u001B[32m/home/payman/miniconda3/envs/py312\u001B[39m\r\n",
      "\u001B[34mExecutable\u001B[39m: \u001B[32m/home/payman/miniconda3/envs/py312/bin/python3.12\u001B[39m\r\n"
     ]
    }
   ],
   "execution_count": 3
  },
  {
   "cell_type": "code",
   "id": "265e102b-5a6e-4dfb-b8a8-7d6abda8f7d6",
   "metadata": {
    "ExecuteTime": {
     "end_time": "2025-10-31T10:33:40.219611Z",
     "start_time": "2025-10-31T10:33:38.411392Z"
    }
   },
   "source": [
    "!poetry run pip install ipykernel\n",
    "!poetry run python -m ipykernel install --user --name=my_poetry_env --display-name \"Python (Poetry)\"\n"
   ],
   "outputs": [
    {
     "name": "stdout",
     "output_type": "stream",
     "text": [
      "Requirement already satisfied: ipykernel in /home/payman/.cache/pypoetry/virtualenvs/federated-adaptive-learning-nist-wnLxecQa-py3.12/lib/python3.12/site-packages (7.1.0)\r\n",
      "Requirement already satisfied: comm>=0.1.1 in /home/payman/.cache/pypoetry/virtualenvs/federated-adaptive-learning-nist-wnLxecQa-py3.12/lib/python3.12/site-packages (from ipykernel) (0.2.3)\r\n",
      "Requirement already satisfied: debugpy>=1.6.5 in /home/payman/.cache/pypoetry/virtualenvs/federated-adaptive-learning-nist-wnLxecQa-py3.12/lib/python3.12/site-packages (from ipykernel) (1.8.17)\r\n",
      "Requirement already satisfied: ipython>=7.23.1 in /home/payman/.cache/pypoetry/virtualenvs/federated-adaptive-learning-nist-wnLxecQa-py3.12/lib/python3.12/site-packages (from ipykernel) (9.6.0)\r\n",
      "Requirement already satisfied: jupyter-client>=8.0.0 in /home/payman/.cache/pypoetry/virtualenvs/federated-adaptive-learning-nist-wnLxecQa-py3.12/lib/python3.12/site-packages (from ipykernel) (8.6.3)\r\n",
      "Requirement already satisfied: jupyter-core!=5.0.*,>=4.12 in /home/payman/.cache/pypoetry/virtualenvs/federated-adaptive-learning-nist-wnLxecQa-py3.12/lib/python3.12/site-packages (from ipykernel) (5.9.1)\r\n",
      "Requirement already satisfied: matplotlib-inline>=0.1 in /home/payman/.cache/pypoetry/virtualenvs/federated-adaptive-learning-nist-wnLxecQa-py3.12/lib/python3.12/site-packages (from ipykernel) (0.2.1)\r\n",
      "Requirement already satisfied: nest-asyncio>=1.4 in /home/payman/.cache/pypoetry/virtualenvs/federated-adaptive-learning-nist-wnLxecQa-py3.12/lib/python3.12/site-packages (from ipykernel) (1.6.0)\r\n",
      "Requirement already satisfied: packaging>=22 in /home/payman/.cache/pypoetry/virtualenvs/federated-adaptive-learning-nist-wnLxecQa-py3.12/lib/python3.12/site-packages (from ipykernel) (25.0)\r\n",
      "Requirement already satisfied: psutil>=5.7 in /home/payman/.cache/pypoetry/virtualenvs/federated-adaptive-learning-nist-wnLxecQa-py3.12/lib/python3.12/site-packages (from ipykernel) (7.1.2)\r\n",
      "Requirement already satisfied: pyzmq>=25 in /home/payman/.cache/pypoetry/virtualenvs/federated-adaptive-learning-nist-wnLxecQa-py3.12/lib/python3.12/site-packages (from ipykernel) (27.1.0)\r\n",
      "Requirement already satisfied: tornado>=6.2 in /home/payman/.cache/pypoetry/virtualenvs/federated-adaptive-learning-nist-wnLxecQa-py3.12/lib/python3.12/site-packages (from ipykernel) (6.5.2)\r\n",
      "Requirement already satisfied: traitlets>=5.4.0 in /home/payman/.cache/pypoetry/virtualenvs/federated-adaptive-learning-nist-wnLxecQa-py3.12/lib/python3.12/site-packages (from ipykernel) (5.14.3)\r\n",
      "Requirement already satisfied: decorator in /home/payman/.cache/pypoetry/virtualenvs/federated-adaptive-learning-nist-wnLxecQa-py3.12/lib/python3.12/site-packages (from ipython>=7.23.1->ipykernel) (5.2.1)\r\n",
      "Requirement already satisfied: ipython-pygments-lexers in /home/payman/.cache/pypoetry/virtualenvs/federated-adaptive-learning-nist-wnLxecQa-py3.12/lib/python3.12/site-packages (from ipython>=7.23.1->ipykernel) (1.1.1)\r\n",
      "Requirement already satisfied: jedi>=0.16 in /home/payman/.cache/pypoetry/virtualenvs/federated-adaptive-learning-nist-wnLxecQa-py3.12/lib/python3.12/site-packages (from ipython>=7.23.1->ipykernel) (0.19.2)\r\n",
      "Requirement already satisfied: pexpect>4.3 in /home/payman/.cache/pypoetry/virtualenvs/federated-adaptive-learning-nist-wnLxecQa-py3.12/lib/python3.12/site-packages (from ipython>=7.23.1->ipykernel) (4.9.0)\r\n",
      "Requirement already satisfied: prompt_toolkit<3.1.0,>=3.0.41 in /home/payman/.cache/pypoetry/virtualenvs/federated-adaptive-learning-nist-wnLxecQa-py3.12/lib/python3.12/site-packages (from ipython>=7.23.1->ipykernel) (3.0.52)\r\n",
      "Requirement already satisfied: pygments>=2.4.0 in /home/payman/.cache/pypoetry/virtualenvs/federated-adaptive-learning-nist-wnLxecQa-py3.12/lib/python3.12/site-packages (from ipython>=7.23.1->ipykernel) (2.19.2)\r\n",
      "Requirement already satisfied: stack_data in /home/payman/.cache/pypoetry/virtualenvs/federated-adaptive-learning-nist-wnLxecQa-py3.12/lib/python3.12/site-packages (from ipython>=7.23.1->ipykernel) (0.6.3)\r\n",
      "Requirement already satisfied: wcwidth in /home/payman/.cache/pypoetry/virtualenvs/federated-adaptive-learning-nist-wnLxecQa-py3.12/lib/python3.12/site-packages (from prompt_toolkit<3.1.0,>=3.0.41->ipython>=7.23.1->ipykernel) (0.2.14)\r\n",
      "Requirement already satisfied: parso<0.9.0,>=0.8.4 in /home/payman/.cache/pypoetry/virtualenvs/federated-adaptive-learning-nist-wnLxecQa-py3.12/lib/python3.12/site-packages (from jedi>=0.16->ipython>=7.23.1->ipykernel) (0.8.5)\r\n",
      "Requirement already satisfied: python-dateutil>=2.8.2 in /home/payman/.cache/pypoetry/virtualenvs/federated-adaptive-learning-nist-wnLxecQa-py3.12/lib/python3.12/site-packages (from jupyter-client>=8.0.0->ipykernel) (2.9.0.post0)\r\n",
      "Requirement already satisfied: platformdirs>=2.5 in /home/payman/.cache/pypoetry/virtualenvs/federated-adaptive-learning-nist-wnLxecQa-py3.12/lib/python3.12/site-packages (from jupyter-core!=5.0.*,>=4.12->ipykernel) (4.5.0)\r\n",
      "Requirement already satisfied: ptyprocess>=0.5 in /home/payman/.cache/pypoetry/virtualenvs/federated-adaptive-learning-nist-wnLxecQa-py3.12/lib/python3.12/site-packages (from pexpect>4.3->ipython>=7.23.1->ipykernel) (0.7.0)\r\n",
      "Requirement already satisfied: six>=1.5 in /home/payman/.cache/pypoetry/virtualenvs/federated-adaptive-learning-nist-wnLxecQa-py3.12/lib/python3.12/site-packages (from python-dateutil>=2.8.2->jupyter-client>=8.0.0->ipykernel) (1.17.0)\r\n",
      "Requirement already satisfied: executing>=1.2.0 in /home/payman/.cache/pypoetry/virtualenvs/federated-adaptive-learning-nist-wnLxecQa-py3.12/lib/python3.12/site-packages (from stack_data->ipython>=7.23.1->ipykernel) (2.2.1)\r\n",
      "Requirement already satisfied: asttokens>=2.1.0 in /home/payman/.cache/pypoetry/virtualenvs/federated-adaptive-learning-nist-wnLxecQa-py3.12/lib/python3.12/site-packages (from stack_data->ipython>=7.23.1->ipykernel) (3.0.0)\r\n",
      "Requirement already satisfied: pure-eval in /home/payman/.cache/pypoetry/virtualenvs/federated-adaptive-learning-nist-wnLxecQa-py3.12/lib/python3.12/site-packages (from stack_data->ipython>=7.23.1->ipykernel) (0.2.3)\r\n",
      "\r\n",
      "\u001B[1m[\u001B[0m\u001B[34;49mnotice\u001B[0m\u001B[1;39;49m]\u001B[0m\u001B[39;49m A new release of pip is available: \u001B[0m\u001B[31;49m25.2\u001B[0m\u001B[39;49m -> \u001B[0m\u001B[32;49m25.3\u001B[0m\r\n",
      "\u001B[1m[\u001B[0m\u001B[34;49mnotice\u001B[0m\u001B[1;39;49m]\u001B[0m\u001B[39;49m To update, run: \u001B[0m\u001B[32;49mpip install --upgrade pip\u001B[0m\r\n",
      "Installed kernelspec my_poetry_env in /home/payman/.local/share/jupyter/kernels/my_poetry_env\r\n"
     ]
    }
   ],
   "execution_count": 4
  },
  {
   "cell_type": "code",
   "id": "fda8bcab-2b0e-4286-9506-c69e6fc9fcab",
   "metadata": {
    "ExecuteTime": {
     "end_time": "2025-10-31T10:33:44.822033Z",
     "start_time": "2025-10-31T10:33:44.792722Z"
    }
   },
   "source": [
    "from src.federated_adaptive_learning_nist.nist_downloader_extractor import download_and_extract_shell\n",
    "from pathlib import Path"
   ],
   "outputs": [],
   "execution_count": 5
  },
  {
   "cell_type": "code",
   "id": "5deb7446-77ac-4321-bed7-e76195d676ac",
   "metadata": {
    "ExecuteTime": {
     "end_time": "2025-10-31T10:33:46.763889Z",
     "start_time": "2025-10-31T10:33:46.761492Z"
    }
   },
   "source": [
    "NOTEBOOK_DIR = Path().resolve()\n",
    "PROJECT_ROOT = NOTEBOOK_DIR.parent\n",
    "DATA_DIR = PROJECT_ROOT / \"data\""
   ],
   "outputs": [],
   "execution_count": 6
  },
  {
   "cell_type": "code",
   "id": "6d871195-7feb-4781-96f9-d6bdc757ae03",
   "metadata": {},
   "source": [
    "download_and_extract_shell(\"https://s3.amazonaws.com/nist-srd/SD19/by_write.zip\",extract_to=DATA_DIR)\n",
    "download_and_extract_shell(\"https://s3.amazonaws.com/nist-srd/SD19/by_class.zip\",extract_to=DATA_DIR)\n"
   ],
   "outputs": [],
   "execution_count": null
  },
  {
   "metadata": {
    "ExecuteTime": {
     "end_time": "2025-10-31T10:44:58.004950Z",
     "start_time": "2025-10-31T10:43:32.246022Z"
    }
   },
   "cell_type": "code",
   "source": [
    "from federated_adaptive_learning_nist.nist_downloader_extractor import download_hash_by_class\n",
    "\n",
    "download_hash_by_class(url=\"https://s3.amazonaws.com/nist-srd/SD19/by_write_md5.log\",target_dir=f\"{DATA_DIR}/by_write\")"
   ],
   "id": "26cd4730f00b4840",
   "outputs": [
    {
     "name": "stdout",
     "output_type": "stream",
     "text": [
      "Downloading by_write_md5.log: 100.0% (85.42 MB)\n",
      "Download complete: /home/payman/MASTERTHESIS/federated_adaptive_learning_using_nist/data/by_write/by_write_md5.log\n"
     ]
    },
    {
     "data": {
      "text/plain": [
       "'/home/payman/MASTERTHESIS/federated_adaptive_learning_using_nist/data/by_write/by_write_md5.log'"
      ]
     },
     "execution_count": 10,
     "metadata": {},
     "output_type": "execute_result"
    }
   ],
   "execution_count": 10
  },
  {
   "metadata": {
    "ExecuteTime": {
     "end_time": "2025-10-31T10:45:07.084337Z",
     "start_time": "2025-10-31T10:45:02.608035Z"
    }
   },
   "cell_type": "code",
   "source": [
    "from federated_adaptive_learning_nist.label_generation import generate_labels_parallel\n",
    "from federated_adaptive_learning_nist.split_hash_by_digits import split_hashes_by_digit\n",
    "\n",
    "DIGITS_HASHES = f\"{DATA_DIR}/by_write/digits_hashes\"\n",
    "JSON_DIGIT_LABELS = f\"{DATA_DIR}/by_write/digits_labels.json\"\n",
    "BY_CLASS_LOG =f\"{DATA_DIR}/by_class/by_class_md5.log\"\n",
    "BY_WRITE_LOG = f\"{DATA_DIR}/by_write/by_write_md5.log\"\n",
    "\n",
    "split_hashes_by_digit(BY_CLASS_LOG,DIGITS_HASHES)\n",
    "# 🔧 Run it (entry point)\n",
    "generate_labels_parallel(\n",
    "    by_write_log=BY_WRITE_LOG,\n",
    "    digit_hash_logs_dir=DIGITS_HASHES,\n",
    "    output_json_path=JSON_DIGIT_LABELS,\n",
    "    num_workers=50\n",
    ")"
   ],
   "id": "b91a06a70267102d",
   "outputs": [
    {
     "name": "stdout",
     "output_type": "stream",
     "text": [
      "✅ Wrote 402953 labeled entries to /home/payman/MASTERTHESIS/federated_adaptive_learning_using_nist/data/by_write/digits_labels.json\n"
     ]
    }
   ],
   "execution_count": 11
  },
  {
   "metadata": {},
   "cell_type": "code",
   "outputs": [],
   "execution_count": null,
   "source": "",
   "id": "3088e834dcec9da6"
  }
 ],
 "metadata": {
  "kernelspec": {
   "display_name": "Python 3 (ipykernel)",
   "language": "python",
   "name": "python3"
  },
  "language_info": {
   "codemirror_mode": {
    "name": "ipython",
    "version": 3
   },
   "file_extension": ".py",
   "mimetype": "text/x-python",
   "name": "python",
   "nbconvert_exporter": "python",
   "pygments_lexer": "ipython3",
   "version": "3.12.8"
  }
 },
 "nbformat": 4,
 "nbformat_minor": 5
}
