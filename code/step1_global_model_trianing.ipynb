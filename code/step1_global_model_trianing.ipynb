{
 "cells": [
  {
   "metadata": {},
   "cell_type": "markdown",
   "source": "# here we split the data, train the global model, generate the fisher, get the outliers and train them",
   "id": "ea8b23f658987c6b"
  },
  {
   "metadata": {
    "collapsed": true
   },
   "cell_type": "code",
   "source": [
    "from results.final_result_CFAlignedFeatureTrainer_grid_search.concurrent_weights.results_plots import json_path\n",
    "!poetry env use python3\n",
    "!poetry env info"
   ],
   "id": "c2b1722ce8c3e066",
   "outputs": [],
   "execution_count": null
  },
  {
   "metadata": {},
   "cell_type": "code",
   "source": [
    "!poetry run pip install ipykernel\n",
    "!poetry run python -m ipykernel install --user --name=my_poetry_env --display-name \"Python (Poetry)\""
   ],
   "id": "52e5d24dee98e126",
   "outputs": [],
   "execution_count": null
  },
  {
   "metadata": {
    "ExecuteTime": {
     "end_time": "2025-10-31T14:11:03.719345Z",
     "start_time": "2025-10-31T14:11:03.714117Z"
    }
   },
   "cell_type": "code",
   "source": [
    "from pathlib import Path\n",
    "\n",
    "NOTEBOOK_DIR = Path().resolve()\n",
    "PROJECT_ROOT = NOTEBOOK_DIR.parent\n",
    "DATA_DIR = PROJECT_ROOT / \"data\""
   ],
   "id": "5b624259178d09c2",
   "outputs": [],
   "execution_count": 3
  },
  {
   "metadata": {},
   "cell_type": "code",
   "source": [
    "from federated_adaptive_learning_nist.data_utils import NistDataset\n",
    "from federated_adaptive_learning_nist.global_trainings.global_training import GlobalTraining\n",
    "\n",
    "gt=GlobalTraining()\n",
    "nist_dataset=NistDataset()\n"
   ],
   "id": "92f659faa88ffd0",
   "outputs": [],
   "execution_count": null
  },
  {
   "metadata": {},
   "cell_type": "code",
   "source": [
    "# split the writer to global and local\n",
    "gt.generate_split_writers(seed=42)\n"
   ],
   "id": "5f828238a9e7983c",
   "outputs": [],
   "execution_count": null
  },
  {
   "metadata": {},
   "cell_type": "code",
   "source": [
    "# Generate train and eval autoloader, and the full dataset as test loader\n",
    "train_loader, eval_loader, _ = nist_dataset.build_dataset(gt.global_writers,train_rate=0.6, eval_rate=0.4, batch_size=64,seed=42)\n",
    "_, _, test_loader = nist_dataset.build_dataset(gt.global_writers,train_rate=0.0, eval_rate=0.0, batch_size=64,seed=42)\n",
    "\n"
   ],
   "id": "5753f7ab77169329",
   "outputs": [],
   "execution_count": null
  },
  {
   "metadata": {},
   "cell_type": "markdown",
   "source": "### Training the global model and evaluate it. Also, generate the fisher,",
   "id": "e15fc0184b61d933"
  },
  {
   "metadata": {},
   "cell_type": "code",
   "source": [
    "gt.train(trn_loader=train_loader,evl_loader=eval_loader,epochs=100,load_model=False)\n",
    "gt.generate_fisher(train_loader)\n",
    "gt.evaluate(tst_loader=test_loader)\n",
    "gt.save_metrics_plots()"
   ],
   "id": "ddd26a5b612b0ab3",
   "outputs": [],
   "execution_count": null
  },
  {
   "metadata": {
    "ExecuteTime": {
     "end_time": "2025-10-31T14:07:37.672507Z",
     "start_time": "2025-10-31T14:07:37.669981Z"
    }
   },
   "cell_type": "markdown",
   "source": "#### Generating the plot and displaying",
   "id": "2d35b96245a59658"
  },
  {
   "metadata": {},
   "cell_type": "code",
   "source": [
    "from federated_adaptive_learning_nist.utils.global_results_plot import plot_global_training_progress\n",
    "from IPython.display import Image, display\n",
    "\n",
    "json_path=PROJECT_ROOT/\"results/global_results/global_metrics.json\"\n",
    "save_path=PROJECT_ROOT/\"results/global_results/global_training_plot.png\"\n",
    "plot_global_training_progress(json_path=json_path,save_path=save_path)\n",
    "display(Image(filename=str(save_path)))\n",
    "\n"
   ],
   "id": "51ec04a38ad9ec00",
   "outputs": [],
   "execution_count": null
  },
  {
   "metadata": {},
   "cell_type": "markdown",
   "source": "### Generate selected writers, and then get 5-outliers\n",
   "id": "3722c2f9ee09ef97"
  },
  {
   "metadata": {},
   "cell_type": "code",
   "source": [
    "gt.generate_selected_writers(seed=42)\n",
    "gt.get_outliers(force_generate=False)\n"
   ],
   "id": "a0577763a106f0c7",
   "outputs": [],
   "execution_count": null
  },
  {
   "metadata": {},
   "cell_type": "markdown",
   "source": "#### displaying the outlier selection results",
   "id": "2c6fc3d0effea441"
  },
  {
   "metadata": {},
   "cell_type": "code",
   "source": [
    "outlier_path=PROJECT_ROOT/\"results/outliers\"\n",
    "display(Image(filename=str(outlier_path/\"bottom_005_selected_writers.png\")))\n",
    "display(Image(filename=str(outlier_path/\"results/all_none_contributor_writers.png\")))\n",
    "display(Image(filename=str(outlier_path/\"results/bottom_005_selected_writers.png\")))\n"
   ],
   "id": "584b1625d80e1768",
   "outputs": [],
   "execution_count": null
  },
  {
   "metadata": {},
   "cell_type": "markdown",
   "source": "### Training the outliers locally",
   "id": "e2e64251a1d84f39"
  },
  {
   "metadata": {},
   "cell_type": "code",
   "source": "gt.outliers_training(batch_size=64,epochs=100)",
   "id": "45a5d33b54871b49",
   "outputs": [],
   "execution_count": null
  },
  {
   "metadata": {},
   "cell_type": "markdown",
   "source": "#### ploting the outlier trainign results/plots",
   "id": "f025076164ad9006"
  },
  {
   "metadata": {},
   "cell_type": "code",
   "source": [
    "from pathlib import Path\n",
    "from IPython.display import Image, display\n",
    "\n",
    "# root folder containing all your PNG files (adjust this)\n",
    "root = PROJECT_ROOT/\"results/outliers/results/plots\"\n",
    "\n",
    "# find all PNGs recursively\n",
    "png_files = sorted(root.rglob(\"*.png\"))\n",
    "\n",
    "print(f\"Found {len(png_files)} PNG files.\")\n",
    "\n",
    "# display them in Jupyter (limit if there are too many)\n",
    "for path in png_files[:50]:  # adjust 50 to whatever your sanity can handle\n",
    "    display(Image(filename=str(path)))\n"
   ],
   "id": "1ca4adfcc90c2178",
   "outputs": [],
   "execution_count": null
  },
  {
   "metadata": {},
   "cell_type": "code",
   "outputs": [],
   "execution_count": null,
   "source": "",
   "id": "f4804cb8eb60ac15"
  }
 ],
 "metadata": {
  "kernelspec": {
   "display_name": "Python 3",
   "language": "python",
   "name": "python3"
  },
  "language_info": {
   "codemirror_mode": {
    "name": "ipython",
    "version": 2
   },
   "file_extension": ".py",
   "mimetype": "text/x-python",
   "name": "python",
   "nbconvert_exporter": "python",
   "pygments_lexer": "ipython2",
   "version": "2.7.6"
  }
 },
 "nbformat": 4,
 "nbformat_minor": 5
}
